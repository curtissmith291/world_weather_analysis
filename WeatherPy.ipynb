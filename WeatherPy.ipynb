{
 "cells": [
  {
   "cell_type": "code",
   "execution_count": 9,
   "metadata": {},
   "outputs": [],
   "source": [
    "# Import Dependencies\n",
    "import pandas as pd\n",
    "import matplotlib.pyplot as plt\n",
    "import numpy as np\n",
    "from citipy import citipy"
   ]
  },
  {
   "cell_type": "code",
   "execution_count": 21,
   "metadata": {},
   "outputs": [],
   "source": [
    "lats = np.random.uniform(-90, 90, 1500)\n",
    "longs = np.random.uniform(-180, 180, 1500)\n",
    "coordinates = list(zip(lats, longs))"
   ]
  },
  {
   "cell_type": "code",
   "execution_count": 22,
   "metadata": {},
   "outputs": [
    {
     "data": {
      "text/plain": [
       "[(-25.68822198161591, -75.12520225816564),\n",
       " (-36.928443386637824, -14.052314428963399),\n",
       " (4.537921476218941, 140.0609077414078),\n",
       " (-60.56311978817518, -63.84977545896267),\n",
       " (-73.4581806945049, 113.32060423505504),\n",
       " (-63.49150805893602, 90.66569611582662),\n",
       " (3.851175298555205, -111.68577429518918),\n",
       " (44.404540221542675, 156.71342553846705),\n",
       " (63.41049024740235, -43.308162638201225),\n",
       " (47.36048870960593, -172.76216582818196),\n",
       " (-7.172478369482548, -75.2324057466923),\n",
       " (-13.796008435568154, -175.35293517946624),\n",
       " (-88.4903776758502, 50.89963680000528),\n",
       " (-62.82369705564125, 3.1070852582947452),\n",
       " (-72.37251622361937, -37.985744152027536),\n",
       " (1.5971120185453174, -113.30272016323127),\n",
       " (64.1610383871087, -14.542687678557485),\n",
       " (-8.559564319496133, 79.05891341980208),\n",
       " (35.8060422736596, 173.86332233260975),\n",
       " (-50.27164335905129, 49.19212281478627)]"
      ]
     },
     "execution_count": 22,
     "metadata": {},
     "output_type": "execute_result"
    }
   ],
   "source": [
    "coordinates[0:20]"
   ]
  },
  {
   "cell_type": "code",
   "execution_count": 16,
   "metadata": {},
   "outputs": [],
   "source": [
    "cities = []"
   ]
  },
  {
   "cell_type": "code",
   "execution_count": 23,
   "metadata": {
    "scrolled": true
   },
   "outputs": [
    {
     "name": "stdout",
     "output_type": "stream",
     "text": [
      "623\n"
     ]
    }
   ],
   "source": [
    "# identify the nearest city to our coordinates\n",
    "for coords in coordinates:\n",
    "    city = citipy.nearest_city(coords[0], coords[1]).city_name\n",
    "    if city not in cities:\n",
    "        cities.append(city)\n",
    "print(len(cities))"
   ]
  },
  {
   "cell_type": "code",
   "execution_count": null,
   "metadata": {},
   "outputs": [],
   "source": []
  }
 ],
 "metadata": {
  "kernelspec": {
   "display_name": "PythonData",
   "language": "python",
   "name": "pythondata"
  },
  "language_info": {
   "codemirror_mode": {
    "name": "ipython",
    "version": 3
   },
   "file_extension": ".py",
   "mimetype": "text/x-python",
   "name": "python",
   "nbconvert_exporter": "python",
   "pygments_lexer": "ipython3",
   "version": "3.7.9"
  }
 },
 "nbformat": 4,
 "nbformat_minor": 4
}
